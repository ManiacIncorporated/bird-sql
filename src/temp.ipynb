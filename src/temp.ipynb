{
 "cells": [
  {
   "cell_type": "code",
   "execution_count": 1,
   "metadata": {},
   "outputs": [],
   "source": [
    "from utils import read_jsonl_file, read_tsv_file, write_jsonl_file\n",
    "import pandas as pd\n",
    "import json"
   ]
  },
  {
   "cell_type": "code",
   "execution_count": 2,
   "metadata": {},
   "outputs": [],
   "source": [
    "# data = read_jsonl_file(\"/data/env/lib/repos/sheshansh/bird-sql/debug.jsonl\")\n",
    "data1 = read_jsonl_file(\"/data/env/lib/repos/sheshansh/bird-sql/debug1.jsonl\")"
   ]
  },
  {
   "cell_type": "code",
   "execution_count": 3,
   "metadata": {},
   "outputs": [],
   "source": [
    "# data = pd.DataFrame(data)\n",
    "data1 = pd.DataFrame(data1)"
   ]
  },
  {
   "cell_type": "code",
   "execution_count": 4,
   "metadata": {},
   "outputs": [],
   "source": [
    "# (data['predicted_sql'] == data1['predicted_sql']).sum() / len(data) * 100\n",
    "# (data['predicted_sql'] == data1['predicted_sql']).sum() / len(data) * 100"
   ]
  },
  {
   "cell_type": "code",
   "execution_count": 6,
   "metadata": {},
   "outputs": [
    {
     "name": "stdout",
     "output_type": "stream",
     "text": [
      "0.5215123859191656\n"
     ]
    }
   ],
   "source": [
    "# print((data['evaluation'] != data['evaluation_old']).sum() / len(data) * 100)\n",
    "print((data1['evaluation'] != data1['evaluation_old']).sum() / len(data1) * 100)\n",
    "# print((data['evaluation'] != data1['evaluation']).sum() / len(data) * 100)\n",
    "# print((data['evaluation_old'] != data1['evaluation_old']).sum() / len(data) * 100)"
   ]
  },
  {
   "cell_type": "code",
   "execution_count": 7,
   "metadata": {},
   "outputs": [
    {
     "data": {
      "text/html": [
       "<div>\n",
       "<style scoped>\n",
       "    .dataframe tbody tr th:only-of-type {\n",
       "        vertical-align: middle;\n",
       "    }\n",
       "\n",
       "    .dataframe tbody tr th {\n",
       "        vertical-align: top;\n",
       "    }\n",
       "\n",
       "    .dataframe thead th {\n",
       "        text-align: right;\n",
       "    }\n",
       "</style>\n",
       "<table border=\"1\" class=\"dataframe\">\n",
       "  <thead>\n",
       "    <tr style=\"text-align: right;\">\n",
       "      <th></th>\n",
       "      <th>evaluation1</th>\n",
       "      <th>evaluation_old1</th>\n",
       "    </tr>\n",
       "  </thead>\n",
       "  <tbody>\n",
       "    <tr>\n",
       "      <th>0</th>\n",
       "      <td>pass: correct</td>\n",
       "      <td>pass: correct</td>\n",
       "    </tr>\n",
       "    <tr>\n",
       "      <th>1</th>\n",
       "      <td>pass: incorrect</td>\n",
       "      <td>pass: incorrect</td>\n",
       "    </tr>\n",
       "    <tr>\n",
       "      <th>2</th>\n",
       "      <td>pass: correct</td>\n",
       "      <td>pass: correct</td>\n",
       "    </tr>\n",
       "    <tr>\n",
       "      <th>3</th>\n",
       "      <td>pass: correct</td>\n",
       "      <td>pass: correct</td>\n",
       "    </tr>\n",
       "    <tr>\n",
       "      <th>4</th>\n",
       "      <td>pass: correct</td>\n",
       "      <td>pass: correct</td>\n",
       "    </tr>\n",
       "    <tr>\n",
       "      <th>...</th>\n",
       "      <td>...</td>\n",
       "      <td>...</td>\n",
       "    </tr>\n",
       "    <tr>\n",
       "      <th>1529</th>\n",
       "      <td>pass: incorrect</td>\n",
       "      <td>pass: incorrect</td>\n",
       "    </tr>\n",
       "    <tr>\n",
       "      <th>1530</th>\n",
       "      <td>pass: incorrect</td>\n",
       "      <td>pass: incorrect</td>\n",
       "    </tr>\n",
       "    <tr>\n",
       "      <th>1531</th>\n",
       "      <td>pass: incorrect</td>\n",
       "      <td>pass: incorrect</td>\n",
       "    </tr>\n",
       "    <tr>\n",
       "      <th>1532</th>\n",
       "      <td>pass: correct</td>\n",
       "      <td>pass: correct</td>\n",
       "    </tr>\n",
       "    <tr>\n",
       "      <th>1533</th>\n",
       "      <td>pass: correct</td>\n",
       "      <td>pass: correct</td>\n",
       "    </tr>\n",
       "  </tbody>\n",
       "</table>\n",
       "<p>1534 rows × 2 columns</p>\n",
       "</div>"
      ],
      "text/plain": [
       "          evaluation1  evaluation_old1\n",
       "0       pass: correct    pass: correct\n",
       "1     pass: incorrect  pass: incorrect\n",
       "2       pass: correct    pass: correct\n",
       "3       pass: correct    pass: correct\n",
       "4       pass: correct    pass: correct\n",
       "...               ...              ...\n",
       "1529  pass: incorrect  pass: incorrect\n",
       "1530  pass: incorrect  pass: incorrect\n",
       "1531  pass: incorrect  pass: incorrect\n",
       "1532    pass: correct    pass: correct\n",
       "1533    pass: correct    pass: correct\n",
       "\n",
       "[1534 rows x 2 columns]"
      ]
     },
     "execution_count": 7,
     "metadata": {},
     "output_type": "execute_result"
    }
   ],
   "source": [
    "# create a new df with data['evaluation'], data['evaluation_old'], data1['evaluation'], data1['evaluation_old']\n",
    "# df = pd.DataFrame({'evaluation': data['evaluation'], 'evaluation_old': data['evaluation_old'], 'evaluation1': data1['evaluation'], 'evaluation_old1': data1['evaluation_old']})\n",
    "df = pd.DataFrame({'evaluation1': data1['evaluation'], 'evaluation_old1': data1['evaluation_old']})\n",
    "df"
   ]
  },
  {
   "cell_type": "code",
   "execution_count": 8,
   "metadata": {},
   "outputs": [
    {
     "data": {
      "text/html": [
       "<div>\n",
       "<style scoped>\n",
       "    .dataframe tbody tr th:only-of-type {\n",
       "        vertical-align: middle;\n",
       "    }\n",
       "\n",
       "    .dataframe tbody tr th {\n",
       "        vertical-align: top;\n",
       "    }\n",
       "\n",
       "    .dataframe thead th {\n",
       "        text-align: right;\n",
       "    }\n",
       "</style>\n",
       "<table border=\"1\" class=\"dataframe\">\n",
       "  <thead>\n",
       "    <tr style=\"text-align: right;\">\n",
       "      <th></th>\n",
       "      <th>evaluation1</th>\n",
       "      <th>evaluation_old1</th>\n",
       "    </tr>\n",
       "  </thead>\n",
       "  <tbody>\n",
       "    <tr>\n",
       "      <th>259</th>\n",
       "      <td>pass: incorrect</td>\n",
       "      <td>pass: correct</td>\n",
       "    </tr>\n",
       "    <tr>\n",
       "      <th>273</th>\n",
       "      <td>pass: correct</td>\n",
       "      <td>pass: incorrect</td>\n",
       "    </tr>\n",
       "    <tr>\n",
       "      <th>411</th>\n",
       "      <td>error: &lt;error&gt;</td>\n",
       "      <td>None</td>\n",
       "    </tr>\n",
       "    <tr>\n",
       "      <th>518</th>\n",
       "      <td>error: &lt;error&gt;</td>\n",
       "      <td>None</td>\n",
       "    </tr>\n",
       "    <tr>\n",
       "      <th>519</th>\n",
       "      <td>error: &lt;error&gt;</td>\n",
       "      <td>None</td>\n",
       "    </tr>\n",
       "    <tr>\n",
       "      <th>534</th>\n",
       "      <td>pass: correct</td>\n",
       "      <td>pass: incorrect</td>\n",
       "    </tr>\n",
       "    <tr>\n",
       "      <th>581</th>\n",
       "      <td>error: &lt;error&gt;</td>\n",
       "      <td>None</td>\n",
       "    </tr>\n",
       "    <tr>\n",
       "      <th>701</th>\n",
       "      <td>error: &lt;error&gt;</td>\n",
       "      <td>None</td>\n",
       "    </tr>\n",
       "  </tbody>\n",
       "</table>\n",
       "</div>"
      ],
      "text/plain": [
       "         evaluation1  evaluation_old1\n",
       "259  pass: incorrect    pass: correct\n",
       "273    pass: correct  pass: incorrect\n",
       "411   error: <error>             None\n",
       "518   error: <error>             None\n",
       "519   error: <error>             None\n",
       "534    pass: correct  pass: incorrect\n",
       "581   error: <error>             None\n",
       "701   error: <error>             None"
      ]
     },
     "execution_count": 8,
     "metadata": {},
     "output_type": "execute_result"
    }
   ],
   "source": [
    "(df[df['evaluation1'] != df['evaluation_old1']])\n",
    "# (df[df['evaluation_old'] != df['evaluation_old1']])"
   ]
  },
  {
   "cell_type": "code",
   "execution_count": 12,
   "metadata": {},
   "outputs": [
    {
     "data": {
      "text/html": [
       "<div>\n",
       "<style scoped>\n",
       "    .dataframe tbody tr th:only-of-type {\n",
       "        vertical-align: middle;\n",
       "    }\n",
       "\n",
       "    .dataframe tbody tr th {\n",
       "        vertical-align: top;\n",
       "    }\n",
       "\n",
       "    .dataframe thead th {\n",
       "        text-align: right;\n",
       "    }\n",
       "</style>\n",
       "<table border=\"1\" class=\"dataframe\">\n",
       "  <thead>\n",
       "    <tr style=\"text-align: right;\">\n",
       "      <th></th>\n",
       "      <th></th>\n",
       "      <th>evaluation_old1</th>\n",
       "    </tr>\n",
       "    <tr>\n",
       "      <th>evaluation1</th>\n",
       "      <th>evaluation_old1</th>\n",
       "      <th></th>\n",
       "    </tr>\n",
       "  </thead>\n",
       "  <tbody>\n",
       "    <tr>\n",
       "      <th>pass: correct</th>\n",
       "      <th>pass: incorrect</th>\n",
       "      <td>2</td>\n",
       "    </tr>\n",
       "    <tr>\n",
       "      <th>pass: incorrect</th>\n",
       "      <th>pass: correct</th>\n",
       "      <td>1</td>\n",
       "    </tr>\n",
       "  </tbody>\n",
       "</table>\n",
       "</div>"
      ],
      "text/plain": [
       "                                 evaluation_old1\n",
       "evaluation1     evaluation_old1                 \n",
       "pass: correct   pass: incorrect                2\n",
       "pass: incorrect pass: correct                  1"
      ]
     },
     "execution_count": 12,
     "metadata": {},
     "output_type": "execute_result"
    }
   ],
   "source": [
    "# (df[data['evaluation'] != data['evaluation_old']]).groupby(['evaluation', 'evaluation_old']).count()\n",
    "# (df[df['evaluation'] != df['evaluation_old']]).groupby(['evaluation', 'evaluation_old']).count()\n",
    "# (df[df['evaluation1'] != df['evaluation_old1']]).groupby(['evaluation1', 'evaluation_old1']).count()\n",
    "(df[df['evaluation1'] != df['evaluation_old1']]).groupby(['evaluation1', 'evaluation_old1']).agg({'evaluation_old1': 'count'})"
   ]
  },
  {
   "cell_type": "code",
   "execution_count": 15,
   "metadata": {},
   "outputs": [
    {
     "data": {
      "text/plain": [
       "0.651890482398957"
      ]
     },
     "execution_count": 15,
     "metadata": {},
     "output_type": "execute_result"
    }
   ],
   "source": [
    "(data['evaluation'] != data['evaluation_old']).sum() / len(data) * 100"
   ]
  },
  {
   "cell_type": "code",
   "execution_count": 52,
   "metadata": {},
   "outputs": [],
   "source": [
    "res_cache = json.load(open(\"/data/env/lib/repos/sheshansh/bird-sql/output_seed314159/with_results/sql_results_cache.json\"))"
   ]
  },
  {
   "cell_type": "code",
   "execution_count": 53,
   "metadata": {},
   "outputs": [],
   "source": [
    "data_gen = read_jsonl_file(\"/data/env/lib/repos/sheshansh/bird-sql/output_seed314159/generations/data_gen.jsonl\")"
   ]
  },
  {
   "cell_type": "code",
   "execution_count": 60,
   "metadata": {},
   "outputs": [],
   "source": [
    "data_with_results = read_jsonl_file(\"/data/env/lib/repos/sheshansh/bird-sql/output_seed314159/with_results/data_with_results.jsonl\")"
   ]
  },
  {
   "cell_type": "code",
   "execution_count": 61,
   "metadata": {},
   "outputs": [
    {
     "name": "stdout",
     "output_type": "stream",
     "text": [
      "275291\n"
     ]
    }
   ],
   "source": [
    "sqls = set()\n",
    "for datum in data_gen:\n",
    "    for sql in datum['responses']:\n",
    "        sqls.add((datum['question_id'], sql))\n",
    "print(len(sqls))"
   ]
  },
  {
   "cell_type": "code",
   "execution_count": 62,
   "metadata": {},
   "outputs": [
    {
     "name": "stdout",
     "output_type": "stream",
     "text": [
      "275291\n"
     ]
    }
   ],
   "source": [
    "sqls = set()\n",
    "for datum in data_with_results:\n",
    "    for sql in datum['responses']:\n",
    "        sqls.add((datum['question_id'], sql))\n",
    "print(len(sqls))"
   ]
  },
  {
   "cell_type": "code",
   "execution_count": 59,
   "metadata": {},
   "outputs": [
    {
     "name": "stdout",
     "output_type": "stream",
     "text": [
      "274608\n"
     ]
    }
   ],
   "source": [
    "print(len(res_cache))"
   ]
  }
 ],
 "metadata": {
  "kernelspec": {
   "display_name": "bird_test",
   "language": "python",
   "name": "python3"
  },
  "language_info": {
   "codemirror_mode": {
    "name": "ipython",
    "version": 3
   },
   "file_extension": ".py",
   "mimetype": "text/x-python",
   "name": "python",
   "nbconvert_exporter": "python",
   "pygments_lexer": "ipython3",
   "version": "3.10.0"
  }
 },
 "nbformat": 4,
 "nbformat_minor": 2
}
