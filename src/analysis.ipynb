{
 "cells": [
  {
   "cell_type": "code",
   "execution_count": 1,
   "metadata": {},
   "outputs": [
    {
     "name": "stderr",
     "output_type": "stream",
     "text": [
      "/tmp/ipykernel_262413/74476563.py:12: TqdmWarning: IProgress not found. Please update jupyter and ipywidgets. See https://ipywidgets.readthedocs.io/en/stable/user_install.html\n",
      "  import tqdm.autonotebook as tqdm\n"
     ]
    }
   ],
   "source": [
    "import argparse\n",
    "import glob\n",
    "import io\n",
    "import multiprocessing as mp\n",
    "import os\n",
    "import copy\n",
    "import sqlite3\n",
    "import sys\n",
    "from contextlib import redirect_stderr, suppress\n",
    "\n",
    "import pandas as pd\n",
    "import tqdm.autonotebook as tqdm\n",
    "from func_timeout import FunctionTimedOut, func_timeout\n",
    "from tabulate import tabulate\n",
    "\n",
    "from utils import read_jsonl_file, read_tsv_file"
   ]
  },
  {
   "cell_type": "code",
   "execution_count": 2,
   "metadata": {},
   "outputs": [],
   "source": [
    "def execute_sql(datum):\n",
    "    conn = sqlite3.connect(datum[\"db_path\"])\n",
    "    cursor = conn.cursor()\n",
    "    cursor.execute(datum[\"predicted_sql\"])\n",
    "    predicted_res = set(cursor.fetchall())\n",
    "    cursor.execute(datum[\"SQL\"])\n",
    "    ground_truth_res = set(cursor.fetchall())\n",
    "    if len(predicted_res) == 0:\n",
    "        return \"pass: incorrect-empty\"\n",
    "    elif predicted_res == ground_truth_res:\n",
    "        return \"pass: correct\"\n",
    "    else:\n",
    "        return \"pass: incorrect\"\n",
    "\n",
    "\n",
    "def execute_sql_robust(args, datum, i):\n",
    "    stderr = io.StringIO()\n",
    "    with suppress(RuntimeError, ReferenceError), redirect_stderr(stderr):\n",
    "        try:\n",
    "            evaluation = func_timeout(\n",
    "                args.meta_time_out, execute_sql, args=(datum,)\n",
    "            )\n",
    "        except KeyboardInterrupt:\n",
    "            sys.exit(0)\n",
    "        except FunctionTimedOut:\n",
    "            evaluation = \"error: timeout\"\n",
    "        except Exception as e:\n",
    "            import code; code.interact(local=locals())\n",
    "            evaluation = \"error: <error>\"\n",
    "    return (i, evaluation)\n",
    "\n",
    "\n",
    "def evaluate(args, data):\n",
    "    exec_results = []\n",
    "\n",
    "    def result_callback(result):\n",
    "        exec_results.append(result)\n",
    "        pbar.update(1)\n",
    "\n",
    "    pbar = tqdm.tqdm(total=len(data), desc=\"Processing\", unit=\"item\")\n",
    "    if args.num_cpus > 1:\n",
    "        pool = mp.Pool(processes=args.num_cpus)\n",
    "        for i, datum in enumerate(data):\n",
    "            if len(datum.get(\"evaluation\", \"\")) > 0:\n",
    "                pbar.update(1)\n",
    "                continue\n",
    "            pool.apply_async(execute_sql_robust, args=(args, datum, i), callback=result_callback)\n",
    "        pool.close()\n",
    "        pool.join()\n",
    "    else:    \n",
    "        for i, datum in enumerate(data):\n",
    "            if len(datum.get(\"evaluation\", \"\")) > 0:\n",
    "                pbar.update(1)\n",
    "                continue\n",
    "            result = execute_sql_robust(args, datum, i)\n",
    "            result_callback(result)\n",
    "    pbar.close()\n",
    "\n",
    "    for i, evaluation in exec_results:\n",
    "        data[i][\"evaluation\"] = evaluation\n",
    "\n",
    "    data_eval = pd.DataFrame.from_records(\n",
    "        [\n",
    "            {\n",
    "                \"difficulty\": datum[\"difficulty\"],\n",
    "                \"evaluation\": datum[\"evaluation\"],\n",
    "                \"db_id\": datum[\"db_id\"],\n",
    "            }\n",
    "            for datum in data\n",
    "        ]\n",
    "    )\n",
    "    data_eval[\"if_correct\"] = data_eval[\"evaluation\"] == \"pass: correct\"\n",
    "    print(\"Overall Accuracy: \", data_eval[\"if_correct\"].mean())\n",
    "    results = (\n",
    "        data_eval.groupby([\"db_id\"])\n",
    "        .agg(\n",
    "            correct=(\"if_correct\", \"sum\"),\n",
    "            total=(\"if_correct\", \"count\"),\n",
    "        )\n",
    "        .reset_index()\n",
    "    )\n",
    "    results[\"accuracy\"] = results[\"correct\"] / results[\"total\"]\n",
    "    results.sort_values(\"db_id\", ascending=False, inplace=True)\n",
    "    print(tabulate(results, headers=\"keys\", tablefmt=\"fancy_grid\"))\n",
    "    results = (\n",
    "        data_eval.groupby([\"difficulty\"])\n",
    "        .agg(\n",
    "            correct=(\"if_correct\", \"sum\"),\n",
    "            total=(\"if_correct\", \"count\"),\n",
    "        )\n",
    "        .reset_index()\n",
    "    )\n",
    "    results[\"accuracy\"] = results[\"correct\"] / results[\"total\"]\n",
    "    results.sort_values(\"difficulty\", ascending=False, inplace=True)\n",
    "    print(tabulate(results, headers=\"keys\", tablefmt=\"fancy_grid\"))\n",
    "    return data\n",
    "\n",
    "\n",
    "def select(data, logprob_alpha=0.5):\n",
    "    for datum in data:\n",
    "        best_sql, best_score = \"dummy\", float(\"-inf\")\n",
    "        for sql in datum[\"responses\"]:\n",
    "            try:\n",
    "                logprob = max(datum[\"responses\"][sql][\"all_logprobs\"])\n",
    "                reward = datum[\"responses\"][sql][\"reward\"]\n",
    "                if reward is None:\n",
    "                    reward = float(\"-inf\")\n",
    "                score = logprob_alpha * logprob + (1.0 - logprob_alpha) * reward\n",
    "                if score > best_score:\n",
    "                    best_score = score\n",
    "                    best_sql = sql\n",
    "            except:\n",
    "                import code; code.interact(local=locals())\n",
    "        datum[\"predicted_sql\"] = best_sql"
   ]
  },
  {
   "cell_type": "code",
   "execution_count": 3,
   "metadata": {},
   "outputs": [],
   "source": [
    "datas = [\n",
    "    read_jsonl_file(\"../output/with_rewards/data_reward_all.jsonl\"),\n",
    "    read_jsonl_file(\"../output_seed314159/with_rewards/data_reward_all.jsonl\"),\n",
    "    read_jsonl_file(\"../output_seed8675309/with_rewards/data_reward_all.jsonl\"),\n",
    "]"
   ]
  },
  {
   "cell_type": "code",
   "execution_count": 37,
   "metadata": {},
   "outputs": [
    {
     "ename": "KeyError",
     "evalue": "\"SELECT COUNT(molecule_id) FROM molecule WHERE molecule_id LIKE 'TR0__' AND label = '+'\"",
     "output_type": "error",
     "traceback": [
      "\u001b[0;31m---------------------------------------------------------------------------\u001b[0m",
      "\u001b[0;31mKeyError\u001b[0m                                  Traceback (most recent call last)",
      "Cell \u001b[0;32mIn[37], line 1\u001b[0m\n\u001b[0;32m----> 1\u001b[0m \u001b[43mdatas\u001b[49m\u001b[43m[\u001b[49m\u001b[38;5;241;43m0\u001b[39;49m\u001b[43m]\u001b[49m\u001b[43m[\u001b[49m\u001b[38;5;241;43m204\u001b[39;49m\u001b[43m]\u001b[49m\u001b[43m[\u001b[49m\u001b[38;5;124;43m\"\u001b[39;49m\u001b[38;5;124;43mSELECT COUNT(molecule_id) FROM molecule WHERE molecule_id LIKE \u001b[39;49m\u001b[38;5;124;43m'\u001b[39;49m\u001b[38;5;124;43mTR0__\u001b[39;49m\u001b[38;5;124;43m'\u001b[39;49m\u001b[38;5;124;43m AND label = \u001b[39;49m\u001b[38;5;124;43m'\u001b[39;49m\u001b[38;5;124;43m+\u001b[39;49m\u001b[38;5;124;43m'\u001b[39;49m\u001b[38;5;124;43m\"\u001b[39;49m\u001b[43m]\u001b[49m\n\u001b[1;32m      2\u001b[0m \u001b[38;5;66;03m# datas[1][204][\"SELECT COUNT(molecule_id) FROM molecule WHERE molecule_id LIKE 'TR0__' AND label = '+'\"]\u001b[39;00m\n",
      "\u001b[0;31mKeyError\u001b[0m: \"SELECT COUNT(molecule_id) FROM molecule WHERE molecule_id LIKE 'TR0__' AND label = '+'\""
     ]
    }
   ],
   "source": [
    "# datas[0][204][\"SELECT COUNT(molecule_id) FROM molecule WHERE molecule_id LIKE 'TR0__' AND label = '+'\"]\n",
    "# datas[1][204][\"SELECT COUNT(molecule_id) FROM molecule WHERE molecule_id LIKE 'TR0__' AND label = '+'\"]"
   ]
  },
  {
   "cell_type": "code",
   "execution_count": 4,
   "metadata": {},
   "outputs": [
    {
     "name": "stderr",
     "output_type": "stream",
     "text": [
      "  0%|          | 0/1534 [00:00<?, ?it/s]"
     ]
    },
    {
     "name": "stderr",
     "output_type": "stream",
     "text": [
      "100%|██████████| 1534/1534 [00:10<00:00, 141.51it/s]\n"
     ]
    }
   ],
   "source": [
    "data = []\n",
    "for i in tqdm.trange(len(datas[0])):\n",
    "    datum = copy.deepcopy(datas[0][i])\n",
    "\n",
    "    # evaluations = {}\n",
    "    # for response, response_data in datum['responses'].items():\n",
    "    #     evaluations[response] = [response_data['evaluation']]\n",
    "\n",
    "    for j in range(1, len(datas)):\n",
    "        assert datas[j][i]['question_id'] == datum['question_id']\n",
    "        for response, response_data in datas[j][i]['responses'].items():\n",
    "            if response in datum['responses']:\n",
    "                datum['responses'][response]['sources'].extend(copy.deepcopy(response_data['sources']))\n",
    "                datum['responses'][response]['all_logprobs'].extend(copy.deepcopy(response_data['all_logprobs']))\n",
    "                # evaluations[response].append(response_data['evaluation'])\n",
    "            else:\n",
    "                datum['responses'][response] = copy.deepcopy(response_data)\n",
    "    \n",
    "    # for response in datum['responses'].keys():\n",
    "    #     datum['responses'][response]['evaluation'] = evaluations[response][0]\n",
    "\n",
    "    data.append(datum)\n"
   ]
  },
  {
   "cell_type": "code",
   "execution_count": 5,
   "metadata": {},
   "outputs": [],
   "source": [
    "select(data, logprob_alpha=0.4)"
   ]
  },
  {
   "cell_type": "code",
   "execution_count": 6,
   "metadata": {},
   "outputs": [
    {
     "name": "stderr",
     "output_type": "stream",
     "text": [
      "Processing:   0%|          | 0/1534 [00:00<?, ?item/s]"
     ]
    },
    {
     "ename": "KeyboardInterrupt",
     "evalue": "",
     "output_type": "error",
     "traceback": [
      "\u001b[0;31m---------------------------------------------------------------------------\u001b[0m",
      "\u001b[0;31mKeyboardInterrupt\u001b[0m                         Traceback (most recent call last)",
      "Cell \u001b[0;32mIn[6], line 11\u001b[0m\n\u001b[1;32m      8\u001b[0m         \u001b[38;5;28mself\u001b[39m\u001b[38;5;241m.\u001b[39mmeta_time_out \u001b[38;5;241m=\u001b[39m \u001b[38;5;241m30.0\u001b[39m\n\u001b[1;32m     10\u001b[0m args \u001b[38;5;241m=\u001b[39m Args()\n\u001b[0;32m---> 11\u001b[0m \u001b[43mevaluate\u001b[49m\u001b[43m(\u001b[49m\u001b[43margs\u001b[49m\u001b[43m,\u001b[49m\u001b[43m \u001b[49m\u001b[43mdata\u001b[49m\u001b[43m)\u001b[49m\n",
      "Cell \u001b[0;32mIn[2], line 49\u001b[0m, in \u001b[0;36mevaluate\u001b[0;34m(args, data)\u001b[0m\n\u001b[1;32m     47\u001b[0m         pool\u001b[38;5;241m.\u001b[39mapply_async(execute_sql_robust, args\u001b[38;5;241m=\u001b[39m(args, datum, i), callback\u001b[38;5;241m=\u001b[39mresult_callback)\n\u001b[1;32m     48\u001b[0m     pool\u001b[38;5;241m.\u001b[39mclose()\n\u001b[0;32m---> 49\u001b[0m     \u001b[43mpool\u001b[49m\u001b[38;5;241;43m.\u001b[39;49m\u001b[43mjoin\u001b[49m\u001b[43m(\u001b[49m\u001b[43m)\u001b[49m\n\u001b[1;32m     50\u001b[0m \u001b[38;5;28;01melse\u001b[39;00m:    \n\u001b[1;32m     51\u001b[0m     \u001b[38;5;28;01mfor\u001b[39;00m i, datum \u001b[38;5;129;01min\u001b[39;00m \u001b[38;5;28menumerate\u001b[39m(data):\n",
      "File \u001b[0;32m/env/lib/conda/bird_latest/lib/python3.10/multiprocessing/pool.py:665\u001b[0m, in \u001b[0;36mPool.join\u001b[0;34m(self)\u001b[0m\n\u001b[1;32m    663\u001b[0m \u001b[38;5;28;01melif\u001b[39;00m \u001b[38;5;28mself\u001b[39m\u001b[38;5;241m.\u001b[39m_state \u001b[38;5;129;01mnot\u001b[39;00m \u001b[38;5;129;01min\u001b[39;00m (CLOSE, TERMINATE):\n\u001b[1;32m    664\u001b[0m     \u001b[38;5;28;01mraise\u001b[39;00m \u001b[38;5;167;01mValueError\u001b[39;00m(\u001b[38;5;124m\"\u001b[39m\u001b[38;5;124mIn unknown state\u001b[39m\u001b[38;5;124m\"\u001b[39m)\n\u001b[0;32m--> 665\u001b[0m \u001b[38;5;28;43mself\u001b[39;49m\u001b[38;5;241;43m.\u001b[39;49m\u001b[43m_worker_handler\u001b[49m\u001b[38;5;241;43m.\u001b[39;49m\u001b[43mjoin\u001b[49m\u001b[43m(\u001b[49m\u001b[43m)\u001b[49m\n\u001b[1;32m    666\u001b[0m \u001b[38;5;28mself\u001b[39m\u001b[38;5;241m.\u001b[39m_task_handler\u001b[38;5;241m.\u001b[39mjoin()\n\u001b[1;32m    667\u001b[0m \u001b[38;5;28mself\u001b[39m\u001b[38;5;241m.\u001b[39m_result_handler\u001b[38;5;241m.\u001b[39mjoin()\n",
      "File \u001b[0;32m/env/lib/conda/bird_latest/lib/python3.10/threading.py:1096\u001b[0m, in \u001b[0;36mThread.join\u001b[0;34m(self, timeout)\u001b[0m\n\u001b[1;32m   1093\u001b[0m     \u001b[38;5;28;01mraise\u001b[39;00m \u001b[38;5;167;01mRuntimeError\u001b[39;00m(\u001b[38;5;124m\"\u001b[39m\u001b[38;5;124mcannot join current thread\u001b[39m\u001b[38;5;124m\"\u001b[39m)\n\u001b[1;32m   1095\u001b[0m \u001b[38;5;28;01mif\u001b[39;00m timeout \u001b[38;5;129;01mis\u001b[39;00m \u001b[38;5;28;01mNone\u001b[39;00m:\n\u001b[0;32m-> 1096\u001b[0m     \u001b[38;5;28;43mself\u001b[39;49m\u001b[38;5;241;43m.\u001b[39;49m\u001b[43m_wait_for_tstate_lock\u001b[49m\u001b[43m(\u001b[49m\u001b[43m)\u001b[49m\n\u001b[1;32m   1097\u001b[0m \u001b[38;5;28;01melse\u001b[39;00m:\n\u001b[1;32m   1098\u001b[0m     \u001b[38;5;66;03m# the behavior of a negative timeout isn't documented, but\u001b[39;00m\n\u001b[1;32m   1099\u001b[0m     \u001b[38;5;66;03m# historically .join(timeout=x) for x<0 has acted as if timeout=0\u001b[39;00m\n\u001b[1;32m   1100\u001b[0m     \u001b[38;5;28mself\u001b[39m\u001b[38;5;241m.\u001b[39m_wait_for_tstate_lock(timeout\u001b[38;5;241m=\u001b[39m\u001b[38;5;28mmax\u001b[39m(timeout, \u001b[38;5;241m0\u001b[39m))\n",
      "File \u001b[0;32m/env/lib/conda/bird_latest/lib/python3.10/threading.py:1116\u001b[0m, in \u001b[0;36mThread._wait_for_tstate_lock\u001b[0;34m(self, block, timeout)\u001b[0m\n\u001b[1;32m   1113\u001b[0m     \u001b[38;5;28;01mreturn\u001b[39;00m\n\u001b[1;32m   1115\u001b[0m \u001b[38;5;28;01mtry\u001b[39;00m:\n\u001b[0;32m-> 1116\u001b[0m     \u001b[38;5;28;01mif\u001b[39;00m \u001b[43mlock\u001b[49m\u001b[38;5;241;43m.\u001b[39;49m\u001b[43macquire\u001b[49m\u001b[43m(\u001b[49m\u001b[43mblock\u001b[49m\u001b[43m,\u001b[49m\u001b[43m \u001b[49m\u001b[43mtimeout\u001b[49m\u001b[43m)\u001b[49m:\n\u001b[1;32m   1117\u001b[0m         lock\u001b[38;5;241m.\u001b[39mrelease()\n\u001b[1;32m   1118\u001b[0m         \u001b[38;5;28mself\u001b[39m\u001b[38;5;241m.\u001b[39m_stop()\n",
      "\u001b[0;31mKeyboardInterrupt\u001b[0m: "
     ]
    }
   ],
   "source": [
    "# Create a dummy args object\n",
    "class Args:\n",
    "    def __init__(self):\n",
    "        self.rewards_dir = \"\"\n",
    "        self.gt_sql_file = \"\"\n",
    "        self.output_dir = \"\"\n",
    "        self.num_cpus = 40\n",
    "        self.meta_time_out = 30.0\n",
    "\n",
    "args = Args()\n",
    "evaluate(args, data)"
   ]
  }
 ],
 "metadata": {
  "kernelspec": {
   "display_name": "bird_latest",
   "language": "python",
   "name": "python3"
  },
  "language_info": {
   "codemirror_mode": {
    "name": "ipython",
    "version": 3
   },
   "file_extension": ".py",
   "mimetype": "text/x-python",
   "name": "python",
   "nbconvert_exporter": "python",
   "pygments_lexer": "ipython3",
   "version": "3.10.18"
  }
 },
 "nbformat": 4,
 "nbformat_minor": 2
}
